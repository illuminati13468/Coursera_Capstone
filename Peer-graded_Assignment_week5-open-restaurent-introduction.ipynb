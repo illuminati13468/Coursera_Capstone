{
 "cells": [
  {
   "cell_type": "markdown",
   "id": "da643d54-45be-4b80-b0c5-988047710c64",
   "metadata": {},
   "source": [
    "## Coursera Capstone project: Restaurent business in Toronto"
   ]
  },
  {
   "cell_type": "markdown",
   "id": "95129c0f-aef8-456e-ac6a-68434da52fd4",
   "metadata": {},
   "source": [
    "### Introduction to the problem"
   ]
  },
  {
   "cell_type": "markdown",
   "id": "5e08d3b4-4e39-4c79-8e7a-ae23924d11a9",
   "metadata": {},
   "source": [
    "In this final project we explore the best location for a Japanese restaurent throughout Toronto for the potential of great profit. In particular is the location of the restaurent which can either result in success or failure.\n",
    "Toronto is a large city in canada and is close to the border with USA. Toronto houses one of the largest medico technoly centers in  Canada and is therefore very popular amongst students and with regards to tech jobs.\n",
    "\n",
    "\n",
    "Business problem:\n",
    "We want to analyse and select the best location for a new japanese restaurent, taking into consideration other restaurents and their ratings. By using data science methodology and instruments like data analysis and visualization, this project aims to come up with a solution to the question: \"Where in the city of Toronto, should I open a japanese restaurent?\""
   ]
  },
  {
   "cell_type": "markdown",
   "id": "38e7854f-0796-4173-8a6c-96a812a2200a",
   "metadata": {},
   "source": [
    "### Audience:"
   ]
  },
  {
   "cell_type": "markdown",
   "id": "330480d1-e23d-44e4-bc18-408561039b0a",
   "metadata": {},
   "source": [
    "The target for this analysis are developers and investors looking to open a japanese restaurent in Toronto. Overall Toronto is a good place to invest since it is a hub for air travel, which gives the option to have customers from all over the world."
   ]
  },
  {
   "cell_type": "markdown",
   "id": "8a1e9d62-a95b-448f-a2ff-35eb011c7c83",
   "metadata": {},
   "source": [
    "### The data:"
   ]
  },
  {
   "cell_type": "markdown",
   "id": "9cb09b90-8b7e-4122-992c-fc6347defa09",
   "metadata": {},
   "source": [
    "To solve our problems we will be needing some data:\n",
    "\n",
    "    1. We need data on the different neighborhoods and boroughs.\n",
    "    2. Latitude and longtitude coordinates for those neighborhoods.\n",
    "    3. Venue data related to restaurents. This will be used to perform analysis on the neighborhoods.\n",
    "    \n",
    "During the project we will be using web scraping for open datasets(wiki), API calls (FourSquare), datacleaning, data wrangling to map visualization(Folium).\n",
    "\n",
    "In our next section we will describe and discuss the exploratory data analysis that we do, any statistical testing that was performed and what ML techniquies that we used."
   ]
  },
  {
   "cell_type": "markdown",
   "id": "9451923b-751f-42e0-b34d-7c8dbc5abca4",
   "metadata": {},
   "source": [
    "### Source data:"
   ]
  },
  {
   "cell_type": "markdown",
   "id": "faec4fd8-fb90-420d-91e3-be8761d5c360",
   "metadata": {},
   "source": [
    "    1. Data will be collected from https://en.wikipedia.org/wiki/List_of_neighbourhoods_in_Toronto and then cleaned and put into a dataframe.\n",
    "    2. FourSquare will be used to create the venue data based on the source data from wikipedia. This could be ratings, tips and so on.\n",
    "    3. Data will be sorted based on rankings\n",
    "    4. The data will be visualized using python libraries \n",
    "    "
   ]
  },
  {
   "cell_type": "code",
   "execution_count": null,
   "id": "17f74e00-0c81-4f92-b124-8230a98fcb07",
   "metadata": {},
   "outputs": [],
   "source": []
  }
 ],
 "metadata": {
  "kernelspec": {
   "display_name": "Python",
   "language": "python",
   "name": "conda-env-python-py"
  },
  "language_info": {
   "codemirror_mode": {
    "name": "ipython",
    "version": 3
   },
   "file_extension": ".py",
   "mimetype": "text/x-python",
   "name": "python",
   "nbconvert_exporter": "python",
   "pygments_lexer": "ipython3",
   "version": "3.6.13"
  }
 },
 "nbformat": 4,
 "nbformat_minor": 5
}
